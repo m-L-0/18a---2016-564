{
 "cells": [
  {
   "cell_type": "markdown",
   "metadata": {},
   "source": [
    "# 图与会话 作业"
   ]
  },
  {
   "cell_type": "markdown",
   "metadata": {},
   "source": [
    "### 作业 1. 在一个notebook文件中构建一张图，实现两个数的加法操作，并在两个不同的会话中执行图。"
   ]
  },
  {
   "cell_type": "code",
   "execution_count": 119,
   "metadata": {},
   "outputs": [],
   "source": [
    "import tensorflow as tf"
   ]
  },
  {
   "cell_type": "code",
   "execution_count": 120,
   "metadata": {},
   "outputs": [],
   "source": [
    "x = 2\n",
    "y = 3"
   ]
  },
  {
   "cell_type": "code",
   "execution_count": 121,
   "metadata": {},
   "outputs": [],
   "source": [
    "G = tf.Graph()\n",
    "with G.as_default():\n",
    "    add_op = tf.add(x, y)"
   ]
  },
  {
   "cell_type": "code",
   "execution_count": 122,
   "metadata": {},
   "outputs": [
    {
     "name": "stdout",
     "output_type": "stream",
     "text": [
      "sess1: 5\n",
      "sess2: 5\n"
     ]
    }
   ],
   "source": [
    "with tf.Session(graph=G) as sess1:\n",
    "    print(\"sess1:\", sess1.run(add_op))\n",
    "with tf.Session(graph=G) as sess2:\n",
    "    print(\"sess2:\",sess2.run(add_op))"
   ]
  },
  {
   "cell_type": "markdown",
   "metadata": {},
   "source": [
    "### 作业 2. 查找资料学习TensorFlow中执行常量基本运算API的基本用法，如`tf.add`、`tf.subtract`、`tf.multiply`、`tf.divide`、`tf.mod`、`tf.pow`、`tf.square`、`tf.sqrt`等的用法，并在notebook中演示其基本用法。"
   ]
  },
  {
   "cell_type": "code",
   "execution_count": 123,
   "metadata": {},
   "outputs": [],
   "source": [
    "import tensorflow as tf"
   ]
  },
  {
   "cell_type": "markdown",
   "metadata": {},
   "source": [
    "1. tf.add(): 两个张量对应元素相加，等价于 A + B."
   ]
  },
  {
   "cell_type": "code",
   "execution_count": 124,
   "metadata": {},
   "outputs": [
    {
     "name": "stdout",
     "output_type": "stream",
     "text": [
      "5 [6 8]\n"
     ]
    }
   ],
   "source": [
    "x1, y1, x2, y2 = 2, 3, 4, 5\n",
    "add_num = tf.add(x1, y1)\n",
    "add_list = tf.add([x1, y1], [x2, y2])\n",
    "with tf.Session() as sess:\n",
    "    print(sess.run(add_num), sess.run(add_list))"
   ]
  },
  {
   "cell_type": "markdown",
   "metadata": {},
   "source": [
    "2. tf.subtract(): 两个张量对应元素相减，等价于 A - B."
   ]
  },
  {
   "cell_type": "code",
   "execution_count": 125,
   "metadata": {},
   "outputs": [
    {
     "name": "stdout",
     "output_type": "stream",
     "text": [
      "-1 [-2 -2]\n"
     ]
    }
   ],
   "source": [
    "x1, y1, x2, y2 = 2, 3, 4, 5\n",
    "sub_num = tf.subtract(x1, y1)\n",
    "sub_list = tf.subtract([x1, y1], [x2, y2])\n",
    "with tf.Session() as sess:\n",
    "    print(sess.run(sub_num), sess.run(sub_list))"
   ]
  },
  {
   "cell_type": "markdown",
   "metadata": {},
   "source": [
    "3. tf.multiply(): 两个张量对应元素相乘，等价于 A * B."
   ]
  },
  {
   "cell_type": "code",
   "execution_count": 126,
   "metadata": {},
   "outputs": [
    {
     "name": "stdout",
     "output_type": "stream",
     "text": [
      "6 [ 8 15]\n"
     ]
    }
   ],
   "source": [
    "x1, y1, x2, y2 = 2, 3, 4, 5\n",
    "mul_num = tf.multiply(x1, y1)\n",
    "mul_list = tf.multiply([x1, y1], [x2, y2])\n",
    "with tf.Session() as sess:\n",
    "    print(sess.run(mul_num), sess.run(mul_list))"
   ]
  },
  {
   "cell_type": "markdown",
   "metadata": {},
   "source": [
    "4. tf.divide(): 两个张量对应元素相除，等价于 A / B.  \n",
    "这个函数不支持python3自带的数据类型，需要使用tensorflow的张量."
   ]
  },
  {
   "cell_type": "code",
   "execution_count": 138,
   "metadata": {},
   "outputs": [
    {
     "name": "stdout",
     "output_type": "stream",
     "text": [
      "0.6666667 [0.5 0.6]\n"
     ]
    }
   ],
   "source": [
    "x1, y1, x2, y2 = 2., 3., 4., 5.\n",
    "div_num = tf.divide(tf.constant(x1), tf.constant(y1))\n",
    "div_list = tf.divide(tf.constant([x1, y1]), tf.constant([x2, y2]))\n",
    "with tf.Session() as sess:\n",
    "    print(sess.run(div_num), sess.run(div_list))"
   ]
  },
  {
   "cell_type": "markdown",
   "metadata": {},
   "source": [
    "5. tf.mod(): shape相同的两个张量对应元素进行模运算，等价于 A % B."
   ]
  },
  {
   "cell_type": "code",
   "execution_count": 139,
   "metadata": {},
   "outputs": [
    {
     "name": "stdout",
     "output_type": "stream",
     "text": [
      "2 [2 3]\n"
     ]
    }
   ],
   "source": [
    "x1, y1, x2, y2 = 2, 3, 4, 5\n",
    "mod_num = tf.mod(x1, y1)\n",
    "mod_list = tf.mod([x1, y1], [x2, y2])\n",
    "with tf.Session() as sess:\n",
    "    print(sess.run(mod_num), sess.run(mod_list))"
   ]
  },
  {
   "cell_type": "markdown",
   "metadata": {},
   "source": [
    "6. tf.pow(): 两个张量对应元素前一个为底，后一个为幂，计算乘方，等价于 $A^B$"
   ]
  },
  {
   "cell_type": "code",
   "execution_count": 140,
   "metadata": {},
   "outputs": [
    {
     "name": "stdout",
     "output_type": "stream",
     "text": [
      "8 [ 16 243]\n"
     ]
    }
   ],
   "source": [
    "x1, y1, x2, y2 = 2, 3, 4, 5\n",
    "pow_num = tf.pow(x1, y1)\n",
    "pow_list = tf.pow([x1, y1], [x2, y2])\n",
    "with tf.Session() as sess:\n",
    "    print(sess.run(pow_num), sess.run(pow_list))"
   ]
  },
  {
   "cell_type": "markdown",
   "metadata": {},
   "source": [
    "7. tf.square(): 计算所有张量里每个元素的平方."
   ]
  },
  {
   "cell_type": "code",
   "execution_count": 141,
   "metadata": {},
   "outputs": [
    {
     "name": "stdout",
     "output_type": "stream",
     "text": [
      "[4 9] [[ 4  9]\n",
      " [16 25]]\n"
     ]
    }
   ],
   "source": [
    "x1, y1, x2, y2 = 2, 3, 4, 5\n",
    "square_num = tf.square((x1, y1))\n",
    "square_list = tf.square(([x1, y1], [x2, y2]))\n",
    "with tf.Session() as sess:\n",
    "    print(sess.run(square_num), sess.run(square_list))"
   ]
  },
  {
   "cell_type": "markdown",
   "metadata": {},
   "source": [
    "8. tf.sqrt(): 计算一个张量里每个元素的平方根.参数必须是下列类型之一：half，float32，float64，complex64，complex28"
   ]
  },
  {
   "cell_type": "code",
   "execution_count": 142,
   "metadata": {},
   "outputs": [
    {
     "name": "stdout",
     "output_type": "stream",
     "text": [
      "[1.4142135 1.7320508] [[1.4142134 1.7320508]\n",
      " [1.9999999 2.236068 ]]\n"
     ]
    }
   ],
   "source": [
    "x1, y1, x2, y2 = 2., 3., 4., 5.\n",
    "sqt_num = tf.sqrt((x1, y1))\n",
    "sqt_list = tf.sqrt(([x1, y1], [x2, y2]))\n",
    "with tf.Session() as sess:\n",
    "    print(sess.run(sqt_num), sess.run(sqt_list))"
   ]
  }
 ],
 "metadata": {
  "kernelspec": {
   "display_name": "Python 3",
   "language": "python",
   "name": "python3"
  },
  "language_info": {
   "codemirror_mode": {
    "name": "ipython",
    "version": 3
   },
   "file_extension": ".py",
   "mimetype": "text/x-python",
   "name": "python",
   "nbconvert_exporter": "python",
   "pygments_lexer": "ipython3",
   "version": "3.6.5"
  }
 },
 "nbformat": 4,
 "nbformat_minor": 2
}
