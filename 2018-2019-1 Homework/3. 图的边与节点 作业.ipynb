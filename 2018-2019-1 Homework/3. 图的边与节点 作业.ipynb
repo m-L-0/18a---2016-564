{
 "cells": [
  {
   "cell_type": "markdown",
   "metadata": {},
   "source": [
    "# 图的边与节点 作业"
   ]
  },
  {
   "cell_type": "markdown",
   "metadata": {},
   "source": [
    "有一4阶张量`img`其`shape=[10, 28, 28, 3])`，代表10张28*28像素的3通道RGB图像，问："
   ]
  },
  {
   "cell_type": "markdown",
   "metadata": {},
   "source": [
    "1. 如何利用索引取出第2张图片？（注意：索引均从0开始，第二张则索引为1，下同）"
   ]
  },
  {
   "cell_type": "markdown",
   "metadata": {},
   "source": [
    "```python\n",
    "img[1]\n",
    "```"
   ]
  },
  {
   "cell_type": "markdown",
   "metadata": {},
   "source": [
    "2. 如何利用切片取出第2张图片？"
   ]
  },
  {
   "cell_type": "markdown",
   "metadata": {},
   "source": [
    "```python\n",
    "tf.slice(img, [1, 0, 0, 0], [1, 28, 28, 3])\n",
    "```"
   ]
  },
  {
   "cell_type": "markdown",
   "metadata": {},
   "source": [
    "3. 使用切片与使用索引取出的一张图片有何不同？"
   ]
  },
  {
   "cell_type": "markdown",
   "metadata": {},
   "source": [
    "切片得到的图片是副本，索引是原图的一部分。  \n",
    "在切片上修改不会对原图造成影响，但是在索引上的图做修改会连带改变原图。"
   ]
  },
  {
   "cell_type": "markdown",
   "metadata": {},
   "source": [
    "4. 如何取出其中的第1、3、5、7张图片？"
   ]
  },
  {
   "cell_type": "markdown",
   "metadata": {},
   "source": [
    "考虑先切片取出第1、3、5、7张图片，然后将这些切片进行拼接，代码如下：\n",
    "```python\n",
    "result = tf.slice(img, [0, 0, 0, 0], [0, 28, 28, 3]) # 第一维长度设置成0，仅做初始化，统一了类型，result没有实际的值.\n",
    "with tf.Session() as sess:\n",
    "    for i in [1, 3, 5, 7]:\n",
    "        Sli = tf.slice(img, [i, 0, 0, 0], [1, 28, 28, 3])\n",
    "        result = tf.concat([result, Sli], 0)\n",
    "        sess.run(result)\n",
    "```"
   ]
  },
  {
   "cell_type": "markdown",
   "metadata": {},
   "source": [
    "5. 如何取出第6-8张（包括6不包括8）图片中中心区域（14*14）的部分？"
   ]
  },
  {
   "cell_type": "markdown",
   "metadata": {},
   "source": [
    "```python\n",
    "size_ori = 28 # 原图尺寸\n",
    "size = 14 # 截取尺寸\n",
    "st = (size_ori - size) // 2 # 计算取中心区域起始索引\n",
    "result = tf.slice(img, [0, st, st, 0], [0, size, size, 3]) #  第一维长度设置成0，仅做初始化，统一了类型，result没有实际的值.\n",
    "with tf.Session() as sess:\n",
    "    for i in range(6, 8):\n",
    "        Sli = tf.slice(img, [i, st, st, 0], [1, size, size, 3])\n",
    "        result = tf.concat([result, Sli], 0)\n",
    "        sess.run(result)\n",
    "```"
   ]
  },
  {
   "cell_type": "markdown",
   "metadata": {},
   "source": [
    "6. 如何将图片根据通道拆分成三份单通道图片？"
   ]
  },
  {
   "cell_type": "markdown",
   "metadata": {},
   "source": [
    "```python\n",
    "slice0 = tf.slice(img, [0, 0, 0, 0], [10, 28, 28, 1])\n",
    "slice1 = tf.slice(img, [0, 0, 0, 1], [10, 28, 28, 1])\n",
    "slice2 = tf.slice(img, [0, 0, 0, 2], [10, 28, 28, 1])\n",
    "```"
   ]
  },
  {
   "cell_type": "markdown",
   "metadata": {},
   "source": [
    "7. 写出`tf.shape(img)`返回的张量的阶数以及`shape`属性的值。"
   ]
  },
  {
   "cell_type": "markdown",
   "metadata": {},
   "source": [
    "```python\n",
    "[10 28 28 3]\n",
    "(10, )\n",
    "```"
   ]
  }
 ],
 "metadata": {
  "kernelspec": {
   "display_name": "Python 3",
   "language": "python",
   "name": "python3"
  },
  "language_info": {
   "codemirror_mode": {
    "name": "ipython",
    "version": 3
   },
   "file_extension": ".py",
   "mimetype": "text/x-python",
   "name": "python",
   "nbconvert_exporter": "python",
   "pygments_lexer": "ipython3",
   "version": "3.6.5"
  }
 },
 "nbformat": 4,
 "nbformat_minor": 2
}
